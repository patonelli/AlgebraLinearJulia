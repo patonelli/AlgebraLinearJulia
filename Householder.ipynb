{
 "cells": [
  {
   "cell_type": "markdown",
   "metadata": {},
   "source": [
    "## reflexões de Householder\n",
    "\n",
    "Dado um vetor $v$ não nulo de $\\mathbb{R}^m$ com o produto interno canônico, podemos escrever $\\mathbb{R}^m= <v> \\oplus <v>^{\\bot}$. A reflexão de Householder correspondente é a aplicação linear $H_v: \\mathbb{R}^m \\to \\mathbb{R}^m$ tal que \n",
    "$H_{v}(v)=-v $ e $H_v(x)=x$ se $x\\in <v>^{\\bot}$. \n",
    "\n",
    "A matriz de $H_v$ é $H_v=I-2\\frac{vv^\\prime}{v^\\prime v}$. Faremos abaixo o exercício: se $x\\in \\mathbb{R}^m$ é dado, achar a reflexão de Houseolder (o vetor $v$), tal que $H_v(x)= \\|x\\|e_1$."
   ]
  },
  {
   "cell_type": "code",
   "execution_count": 1,
   "metadata": {},
   "outputs": [
    {
     "data": {
      "text/plain": [
       "reflete (generic function with 1 method)"
      ]
     },
     "execution_count": 1,
     "metadata": {},
     "output_type": "execute_result"
    }
   ],
   "source": [
    "function reflete(x)\n",
    "    n=length(x)\n",
    "    e1 = [1.;zeros(n-1)] \n",
    "    v= x - norm(x)*e1\n",
    "    Q = eye(n) -2*(v*v')/(norm(v)^2)\n",
    "    return Q\n",
    "end\n"
   ]
  },
  {
   "cell_type": "code",
   "execution_count": 2,
   "metadata": {},
   "outputs": [
    {
     "data": {
      "text/plain": [
       "3×3 Array{Float64,2}:\n",
       "  0.707107  0.0  -0.707107\n",
       "  0.0       1.0   0.0     \n",
       " -0.707107  0.0  -0.707107"
      ]
     },
     "execution_count": 2,
     "metadata": {},
     "output_type": "execute_result"
    }
   ],
   "source": [
    "#teste da função\n",
    "x=[3.;0;-3]\n",
    "Q1 = reflete(x)"
   ]
  },
  {
   "cell_type": "code",
   "execution_count": 3,
   "metadata": {},
   "outputs": [
    {
     "data": {
      "text/plain": [
       "3-element Array{Float64,1}:\n",
       " 4.24264    \n",
       " 0.0        \n",
       " 4.44089e-16"
      ]
     },
     "execution_count": 3,
     "metadata": {},
     "output_type": "execute_result"
    }
   ],
   "source": [
    "Q1*x"
   ]
  },
  {
   "cell_type": "markdown",
   "metadata": {},
   "source": [
    "Agora vamos fazer a decomposição QR usando householder."
   ]
  },
  {
   "cell_type": "code",
   "execution_count": 4,
   "metadata": {},
   "outputs": [
    {
     "data": {
      "text/plain": [
       "4×4 Array{Float64,2}:\n",
       " 1.0  0.0   0.0        0.0     \n",
       " 0.0  1.0   0.0        0.0     \n",
       " 0.0  0.0   0.894427  -0.447214\n",
       " 0.0  0.0  -0.447214  -0.894427"
      ]
     },
     "execution_count": 4,
     "metadata": {},
     "output_type": "execute_result"
    }
   ],
   "source": [
    "    # tipo de construção de matrizes\n",
    "m=4 # tamanho da matriz\n",
    "y=[2;-1] # vetor de dimensão menor m-2\n",
    "Qm= [eye(2)  zeros(2,m-2); zeros(m-2,2) reflete(y)]"
   ]
  },
  {
   "cell_type": "code",
   "execution_count": 5,
   "metadata": {},
   "outputs": [
    {
     "data": {
      "text/plain": [
       "qrholder (generic function with 1 method)"
      ]
     },
     "execution_count": 5,
     "metadata": {},
     "output_type": "execute_result"
    }
   ],
   "source": [
    " function qrholder(A)\n",
    "    A1=copy(A)\n",
    "    m,n = size(A1)\n",
    "    \n",
    "    if n>m println(\"Isto pode dar errado por enquanto\") end\n",
    "    #Q=reflete(A1[:,1])\n",
    "    Q=eye(m)\n",
    "    for k in 1:n\n",
    "        Qh= [eye(k-1) zeros(k-1, m-k+1);\n",
    "            zeros(m-k+1,k-1) reflete(A1[k:end,k])]\n",
    "        Q= Qh*Q\n",
    "        A1=Q*A1\n",
    "    end\n",
    "    return Q,Q*A\n",
    "end\n",
    "\n",
    "        \n",
    "    "
   ]
  },
  {
   "cell_type": "code",
   "execution_count": 6,
   "metadata": {},
   "outputs": [
    {
     "data": {
      "text/plain": [
       "3×2 Array{Float64,2}:\n",
       "  1.0  2.0\n",
       " -1.0  0.0\n",
       "  1.0  5.0"
      ]
     },
     "execution_count": 6,
     "metadata": {},
     "output_type": "execute_result"
    }
   ],
   "source": [
    "A=[1. 2; -1 0; 1 5]"
   ]
  },
  {
   "cell_type": "code",
   "execution_count": 7,
   "metadata": {},
   "outputs": [
    {
     "data": {
      "text/plain": [
       "(\n",
       "[0.57735 -0.57735 0.57735; -0.0936586 0.65561 0.749269; -0.811107 -0.486664 0.324443],\n",
       "\n",
       "[1.73205 4.04145; 0.0 3.55903; 2.77556e-16 -4.44089e-16])"
      ]
     },
     "execution_count": 7,
     "metadata": {},
     "output_type": "execute_result"
    }
   ],
   "source": [
    "L,M= qrholder(A)"
   ]
  },
  {
   "cell_type": "code",
   "execution_count": 8,
   "metadata": {},
   "outputs": [
    {
     "data": {
      "text/plain": [
       "3×3 Array{Float64,2}:\n",
       "  0.57735    -0.57735   0.57735 \n",
       " -0.0936586   0.65561   0.749269\n",
       " -0.811107   -0.486664  0.324443"
      ]
     },
     "metadata": {},
     "output_type": "display_data"
    }
   ],
   "source": [
    "display(L)"
   ]
  },
  {
   "cell_type": "code",
   "execution_count": 9,
   "metadata": {},
   "outputs": [
    {
     "data": {
      "text/plain": [
       "3×3 Array{Float64,2}:\n",
       " 1.0           0.0           5.55112e-17\n",
       " 0.0           1.0          -1.11022e-16\n",
       " 5.55112e-17  -1.11022e-16   1.0        "
      ]
     },
     "execution_count": 9,
     "metadata": {},
     "output_type": "execute_result"
    }
   ],
   "source": [
    "L*L'"
   ]
  },
  {
   "cell_type": "code",
   "execution_count": null,
   "metadata": {
    "collapsed": true
   },
   "outputs": [],
   "source": []
  }
 ],
 "metadata": {
  "kernelspec": {
   "display_name": "Julia 0.5.1",
   "language": "julia",
   "name": "julia-0.5"
  },
  "language_info": {
   "file_extension": ".jl",
   "mimetype": "application/julia",
   "name": "julia",
   "version": "0.5.1"
  }
 },
 "nbformat": 4,
 "nbformat_minor": 2
}
