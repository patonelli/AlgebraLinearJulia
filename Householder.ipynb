{
 "cells": [
  {
   "cell_type": "markdown",
   "metadata": {},
   "source": [
    "## reflexões de Householder\n",
    "\n",
    "Dado um vetor $v$ não nulo de $\\mathbb{R}^m$ com o produto interno canônico, podemos escrever $\\mathbb{R}^m= <v> \\oplus <v>^{\\bot}$. A reflexão de Householder correspondente é a aplicação linear $H_v: \\mathbb{R}^m \\to \\mathbb{R}^m$ tal que \n",
    "$H_{v}(v)=-v $ e $H_v(x)=x$ se $x\\in <v>^{\\bot}$. \n",
    "\n",
    "A matriz de $H_v$ é $H_v=I-2\\frac{vv^\\prime}{v^\\prime v}$. Faremos abaixo o exercício: se $x\\in \\mathbb{R}^m$ é dado, achar a reflexão de Houseolder (o vetor $v$), tal que $H_v(x)= \\|x\\|e_1$."
   ]
  },
  {
   "cell_type": "code",
   "execution_count": 39,
   "metadata": {
    "collapsed": false
   },
   "outputs": [
    {
     "name": "stderr",
     "output_type": "stream",
     "text": [
      "WARNING: Method definition reflete(Any) in module Main at In[37]:2 overwritten at In[39]:2.\n"
     ]
    },
    {
     "data": {
      "text/plain": [
       "reflete (generic function with 1 method)"
      ]
     },
     "execution_count": 39,
     "metadata": {},
     "output_type": "execute_result"
    }
   ],
   "source": [
    "function reflete(x)\n",
    "    n=length(x)\n",
    "    e1 = [1.;zeros(n-1)] \n",
    "    v= x - norm(x)*e1\n",
    "    Q = eye(n) -2*(v*v')/(norm(v)^2)\n",
    "    return Q\n",
    "end\n"
   ]
  },
  {
   "cell_type": "code",
   "execution_count": 40,
   "metadata": {
    "collapsed": false
   },
   "outputs": [
    {
     "data": {
      "text/plain": [
       "3×3 Array{Float64,2}:\n",
       "  0.707107  0.0  -0.707107\n",
       "  0.0       1.0   0.0     \n",
       " -0.707107  0.0  -0.707107"
      ]
     },
     "execution_count": 40,
     "metadata": {},
     "output_type": "execute_result"
    }
   ],
   "source": [
    "#teste da função\n",
    "x=[3.;0;-3]\n",
    "Q1 = reflete(x)"
   ]
  },
  {
   "cell_type": "code",
   "execution_count": 41,
   "metadata": {
    "collapsed": false
   },
   "outputs": [
    {
     "data": {
      "text/plain": [
       "3-element Array{Float64,1}:\n",
       " 4.24264    \n",
       " 0.0        \n",
       " 4.44089e-16"
      ]
     },
     "execution_count": 41,
     "metadata": {},
     "output_type": "execute_result"
    }
   ],
   "source": [
    "Q1*x"
   ]
  },
  {
   "cell_type": "markdown",
   "metadata": {},
   "source": [
    "Agora vamos fazer a decomposição QR usando householder."
   ]
  },
  {
   "cell_type": "code",
   "execution_count": 43,
   "metadata": {
    "collapsed": false
   },
   "outputs": [
    {
     "data": {
      "text/plain": [
       "4×4 Array{Float64,2}:\n",
       " 1.0  0.0   0.0        0.0     \n",
       " 0.0  1.0   0.0        0.0     \n",
       " 0.0  0.0   0.894427  -0.447214\n",
       " 0.0  0.0  -0.447214  -0.894427"
      ]
     },
     "execution_count": 43,
     "metadata": {},
     "output_type": "execute_result"
    }
   ],
   "source": [
    "    # tipo de construção de matrizes\n",
    "m=4 # tamanho da matriz\n",
    "y=[2;-1] # vetor de dimensão menor m-2\n",
    "Qm= [eye(2)  zeros(2,m-2); zeros(m-2,2) reflete(y)]"
   ]
  },
  {
   "cell_type": "code",
   "execution_count": 58,
   "metadata": {
    "collapsed": false
   },
   "outputs": [
    {
     "name": "stderr",
     "output_type": "stream",
     "text": [
      "WARNING: Method definition qrholder(Any) in module Main at In[52]:2 overwritten at In[58]:2.\n"
     ]
    },
    {
     "data": {
      "text/plain": [
       "qrholder (generic function with 1 method)"
      ]
     },
     "execution_count": 58,
     "metadata": {},
     "output_type": "execute_result"
    }
   ],
   "source": [
    " function qrholder(A)\n",
    "    A1=copy(A)\n",
    "    m,n = size(A1)\n",
    "    \n",
    "    if n>m println(\"Isto pode dar errado por enquanto\") end\n",
    "    Q=reflete(A[:,1])\n",
    "    for k in 2:n\n",
    "        Qh= [eye(k-1) zeros(k-1, m-k+1);\n",
    "            zeros(m-k+1,k-1) reflete(A1[k:end,k])]\n",
    "        Q= Qh*Q\n",
    "        A1=Q*A1\n",
    "    end\n",
    "    return Q,A1\n",
    "end\n",
    "\n",
    "        \n",
    "    "
   ]
  },
  {
   "cell_type": "code",
   "execution_count": 53,
   "metadata": {
    "collapsed": false
   },
   "outputs": [
    {
     "data": {
      "text/plain": [
       "3×2 Array{Float64,2}:\n",
       "  1.0  2.0\n",
       " -1.0  0.0\n",
       "  1.0  5.0"
      ]
     },
     "execution_count": 53,
     "metadata": {},
     "output_type": "execute_result"
    }
   ],
   "source": [
    "A=[1. 2; -1 0; 1 5]"
   ]
  },
  {
   "cell_type": "code",
   "execution_count": 59,
   "metadata": {
    "collapsed": false
   },
   "outputs": [
    {
     "data": {
      "text/plain": [
       "(\n",
       "[0.57735 -0.57735 0.57735; 0.57735 0.788675 0.211325; -0.57735 0.211325 0.788675],\n",
       "\n",
       "[1.73205 4.04145; -2.77556e-16 2.21132; 2.22045e-16 2.78868])"
      ]
     },
     "execution_count": 59,
     "metadata": {},
     "output_type": "execute_result"
    }
   ],
   "source": [
    "L,M= qrholder(A)"
   ]
  },
  {
   "cell_type": "code",
   "execution_count": 63,
   "metadata": {
    "collapsed": false
   },
   "outputs": [
    {
     "data": {
      "text/plain": [
       "3×3 Array{Float64,2}:\n",
       "  0.57735  -0.57735   0.57735 \n",
       "  0.57735   0.788675  0.211325\n",
       " -0.57735   0.211325  0.788675"
      ]
     },
     "execution_count": 63,
     "metadata": {},
     "output_type": "execute_result"
    }
   ],
   "source": [
    "L\n"
   ]
  },
  {
   "cell_type": "code",
   "execution_count": 64,
   "metadata": {
    "collapsed": false
   },
   "outputs": [
    {
     "data": {
      "text/plain": [
       "3×2 Array{Float64,2}:\n",
       "  1.73205      4.04145\n",
       " -2.77556e-16  2.21132\n",
       "  2.22045e-16  2.78868"
      ]
     },
     "execution_count": 64,
     "metadata": {},
     "output_type": "execute_result"
    }
   ],
   "source": [
    "M"
   ]
  },
  {
   "cell_type": "code",
   "execution_count": 65,
   "metadata": {
    "collapsed": false
   },
   "outputs": [
    {
     "data": {
      "text/plain": [
       "3×2 Array{Float64,2}:\n",
       "  1.0   2.0        \n",
       " -1.0  -7.77156e-16\n",
       "  1.0   5.0        "
      ]
     },
     "execution_count": 65,
     "metadata": {},
     "output_type": "execute_result"
    }
   ],
   "source": [
    "L'*M"
   ]
  },
  {
   "cell_type": "code",
   "execution_count": 51,
   "metadata": {
    "collapsed": false
   },
   "outputs": [
    {
     "data": {
      "text/plain": [
       "3×3 Array{Float64,2}:\n",
       "  0.57735  -0.57735   0.57735 \n",
       " -0.57735   0.211325  0.788675\n",
       "  0.57735   0.788675  0.211325"
      ]
     },
     "execution_count": 51,
     "metadata": {},
     "output_type": "execute_result"
    }
   ],
   "source": [
    "reflete(A[:,1])"
   ]
  },
  {
   "cell_type": "code",
   "execution_count": null,
   "metadata": {
    "collapsed": true
   },
   "outputs": [],
   "source": []
  }
 ],
 "metadata": {
  "kernelspec": {
   "display_name": "Julia 0.5.1",
   "language": "julia",
   "name": "julia-0.5"
  },
  "language_info": {
   "file_extension": ".jl",
   "mimetype": "application/julia",
   "name": "julia",
   "version": "0.5.1"
  }
 },
 "nbformat": 4,
 "nbformat_minor": 2
}
