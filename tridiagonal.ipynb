{
 "cells": [
  {
   "cell_type": "markdown",
   "metadata": {
    "deletable": true,
    "editable": true
   },
   "source": [
    "## Algoritmo pra matriz tridiagonal (Algoritmo de Thomas)\n",
    "\n",
    "Uma matriz $n\\times n$ é tridiagonal quando os únicos elementos diferentes de zero zero são:\n",
    " * $a_{ii} = q_i$ para $ 1\\leq i \\geq n$\n",
    " * $a_{i+1i}= s_i$ para $i \\leq n-1$\n",
    " * $a_{ii+1} =r_i$ para $i \\leq n-1$\n",
    " \n",
    "Para resolver o sistema $Ax=b$ vamos usar o seguinte algoritmo que está codificado em julia\n",
    "\n"
   ]
  },
  {
   "cell_type": "code",
   "execution_count": 33,
   "metadata": {
    "collapsed": false,
    "deletable": true,
    "editable": true
   },
   "outputs": [
    {
     "name": "stderr",
     "output_type": "stream",
     "text": [
      "WARNING: Method definition tridiagonal(Any, Any, Any, Any) in module Main at In[26]:2 overwritten at In[33]:2.\n"
     ]
    },
    {
     "data": {
      "text/plain": [
       "tridiagonal (generic function with 1 method)"
      ]
     },
     "execution_count": 33,
     "metadata": {},
     "output_type": "execute_result"
    }
   ],
   "source": [
    "function tridiagonal(s,q,r,b)\n",
    "    n=length(b)\n",
    "    # 1. triangularização\n",
    "    for i in 1:n-1\n",
    "        m= s[i]/q[i]\n",
    "        q[i+1]= q[i+1]-m*r[i]\n",
    "        b[i+1]=b[i+1]-m*b[i] # note que esta linha resolve o sistema Ly = b de cima pra baixo e guarda a soluçaão em b\n",
    "    end\n",
    "    # 2. Resolução de baixo para cima\n",
    "    x=zeros(n)\n",
    "    x[n]=b[n]/q[n]\n",
    "    for i in reverse(1:n-1)\n",
    "        x[i]=(b[i]-r[i]*x[i+1])/q[i]\n",
    "    end\n",
    "    return x\n",
    "end"
   ]
  },
  {
   "cell_type": "code",
   "execution_count": 27,
   "metadata": {
    "collapsed": false,
    "deletable": true,
    "editable": true
   },
   "outputs": [
    {
     "data": {
      "text/plain": [
       "4×4 Array{Float64,2}:\n",
       "  2.0  -1.0   0.0   0.0\n",
       " -1.0   2.0  -1.0   0.0\n",
       "  0.0  -1.0   2.0  -1.0\n",
       "  0.0   0.0  -1.0   2.0"
      ]
     },
     "execution_count": 27,
     "metadata": {},
     "output_type": "execute_result"
    }
   ],
   "source": [
    "# Exemplo\n",
    "A = [2. -1. 0. 0.; -1. 2. -1. 0. ; 0 -1 2 -1 ; 0 0 -1 2]"
   ]
  },
  {
   "cell_type": "code",
   "execution_count": 28,
   "metadata": {
    "collapsed": false,
    "deletable": true,
    "editable": true
   },
   "outputs": [
    {
     "data": {
      "text/plain": [
       "3-element Array{Float64,1}:\n",
       " -1.0\n",
       " -1.0\n",
       " -1.0"
      ]
     },
     "execution_count": 28,
     "metadata": {},
     "output_type": "execute_result"
    }
   ],
   "source": [
    "q = [A[i,i] for i in 1:4]\n",
    "s= [A[i+1,i] for i in 1:3]\n",
    "r= [A[i,i+1] for i in 1:3 ]"
   ]
  },
  {
   "cell_type": "code",
   "execution_count": 29,
   "metadata": {
    "collapsed": false,
    "deletable": true,
    "editable": true
   },
   "outputs": [
    {
     "data": {
      "text/plain": [
       "4-element Array{Float64,1}:\n",
       " 1.0\n",
       " 2.0\n",
       " 3.0\n",
       " 4.0"
      ]
     },
     "execution_count": 29,
     "metadata": {},
     "output_type": "execute_result"
    }
   ],
   "source": [
    "b = [1.,2,3,4]"
   ]
  },
  {
   "cell_type": "code",
   "execution_count": 30,
   "metadata": {
    "collapsed": false,
    "deletable": true,
    "editable": true
   },
   "outputs": [
    {
     "data": {
      "text/plain": [
       "([2.0,2.0,2.0,2.0],[-1.0,-1.0,-1.0],[-1.0,-1.0,-1.0],[1.0,2.0,3.0,4.0])"
      ]
     },
     "execution_count": 30,
     "metadata": {},
     "output_type": "execute_result"
    }
   ],
   "source": [
    "q,r,s,b"
   ]
  },
  {
   "cell_type": "code",
   "execution_count": 31,
   "metadata": {
    "collapsed": false,
    "deletable": true,
    "editable": true
   },
   "outputs": [
    {
     "data": {
      "text/plain": [
       "4-element Array{Float64,1}:\n",
       " 4.0\n",
       " 7.0\n",
       " 8.0\n",
       " 6.0"
      ]
     },
     "execution_count": 31,
     "metadata": {},
     "output_type": "execute_result"
    }
   ],
   "source": [
    "x=tridiagonal(s,q,r,b)"
   ]
  },
  {
   "cell_type": "code",
   "execution_count": 32,
   "metadata": {
    "collapsed": false
   },
   "outputs": [
    {
     "data": {
      "text/plain": [
       "4-element Array{Float64,1}:\n",
       " 1.0\n",
       " 2.0\n",
       " 3.0\n",
       " 4.0"
      ]
     },
     "execution_count": 32,
     "metadata": {},
     "output_type": "execute_result"
    }
   ],
   "source": [
    "  A*x\n"
   ]
  },
  {
   "cell_type": "code",
   "execution_count": null,
   "metadata": {
    "collapsed": false
   },
   "outputs": [],
   "source": []
  },
  {
   "cell_type": "code",
   "execution_count": null,
   "metadata": {
    "collapsed": true
   },
   "outputs": [],
   "source": []
  }
 ],
 "metadata": {
  "kernelspec": {
   "display_name": "Julia 0.5.1",
   "language": "julia",
   "name": "julia-0.5"
  },
  "language_info": {
   "file_extension": ".jl",
   "mimetype": "application/julia",
   "name": "julia",
   "version": "0.5.1"
  }
 },
 "nbformat": 4,
 "nbformat_minor": 2
}
