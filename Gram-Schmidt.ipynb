{
 "cells": [
  {
   "cell_type": "markdown",
   "metadata": {},
   "source": [
    "## Algoritmo QR baseado na ortonormalização de Gram-Schmidt\n",
    "\n",
    "As colunas da matriz $A$ são linearmente independentes e vamos ortonormalizá-las.\n",
    "Se $v_1\\dots v_n$ são as colunas de $A$, começamos fazendo $w_1 = v_1/\\|v_1\\|$\n",
    "e para cada $k$ entre $2$ e $n$ fazemos $x = v_k - \\sum_{l=1}^{k-1} <v_k,w_l>w_l$ e finalmente $w_k=x/\\|x\\|$"
   ]
  },
  {
   "cell_type": "code",
   "execution_count": 1,
   "metadata": {
    "collapsed": false
   },
   "outputs": [
    {
     "data": {
      "text/plain": [
       "gs (generic function with 1 method)"
      ]
     },
     "execution_count": 1,
     "metadata": {},
     "output_type": "execute_result"
    }
   ],
   "source": [
    "function gs(A)\n",
    "    n=length(A[1,:]) # numero de colunas de A\n",
    "    m=length(A[:,1]) # numero de linhas de A\n",
    "    Q=zeros(m,n) # inicialização da matriz Q\n",
    "    Q[:,1]=A[:,1]/norm(A[:,1]) # primeira coluna\n",
    "    k=2\n",
    "    while (k<=n)\n",
    "        X= A[:,k] - sum([dot(A[:,k],Q[:,j])*Q[:,j] for j in 1:(k-1)])\n",
    "        Q[:,k] = X/norm(X)\n",
    "        k+=1\n",
    "    end\n",
    "    return Q , Q'*A\n",
    "end"
   ]
  },
  {
   "cell_type": "code",
   "execution_count": 3,
   "metadata": {
    "collapsed": false
   },
   "outputs": [
    {
     "data": {
      "text/plain": [
       "3×2 Array{Int64,2}:\n",
       " 1  2\n",
       " 3  4\n",
       " 5  6"
      ]
     },
     "execution_count": 3,
     "metadata": {},
     "output_type": "execute_result"
    }
   ],
   "source": [
    "A=[1 2\n",
    "3 4\n",
    "5 6]"
   ]
  },
  {
   "cell_type": "code",
   "execution_count": 5,
   "metadata": {
    "collapsed": false
   },
   "outputs": [
    {
     "name": "stdout",
     "output_type": "stream",
     "text": [
      "  0.000163 seconds (29 allocations: 2.047 KB)\n"
     ]
    },
    {
     "data": {
      "text/plain": [
       "(\n",
       "[0.169031 0.897085; 0.507093 0.276026; 0.845154 -0.345033],\n",
       "\n",
       "[5.91608 7.43736; 1.33227e-15 0.828079])"
      ]
     },
     "execution_count": 5,
     "metadata": {},
     "output_type": "execute_result"
    }
   ],
   "source": [
    "#Teste\n",
    "@time q1,r1= gs(A)"
   ]
  },
  {
   "cell_type": "code",
   "execution_count": 8,
   "metadata": {
    "collapsed": false
   },
   "outputs": [
    {
     "name": "stdout",
     "output_type": "stream",
     "text": [
      "  0.000214 seconds (36 allocations: 1.891 KB)\n"
     ]
    },
    {
     "data": {
      "text/plain": [
       "(\n",
       "[-0.169031 0.897085; -0.507093 0.276026; -0.845154 -0.345033],\n",
       "\n",
       "[-5.91608 -7.43736; 0.0 0.828079])"
      ]
     },
     "execution_count": 8,
     "metadata": {},
     "output_type": "execute_result"
    }
   ],
   "source": [
    "# comparação com qr \n",
    "@time q2,r2 = qr(A)"
   ]
  },
  {
   "cell_type": "code",
   "execution_count": 9,
   "metadata": {
    "collapsed": false,
    "scrolled": true
   },
   "outputs": [
    {
     "data": {
      "text/plain": [
       "3×2 Array{Float64,2}:\n",
       " 1.0  2.0\n",
       " 3.0  4.0\n",
       " 5.0  6.0"
      ]
     },
     "execution_count": 9,
     "metadata": {},
     "output_type": "execute_result"
    }
   ],
   "source": [
    "q2*r2"
   ]
  },
  {
   "cell_type": "code",
   "execution_count": 10,
   "metadata": {
    "collapsed": false
   },
   "outputs": [
    {
     "data": {
      "text/plain": [
       "3×2 Array{Float64,2}:\n",
       " 1.0  2.0\n",
       " 3.0  4.0\n",
       " 5.0  6.0"
      ]
     },
     "execution_count": 10,
     "metadata": {},
     "output_type": "execute_result"
    }
   ],
   "source": [
    "q1*r1"
   ]
  },
  {
   "cell_type": "code",
   "execution_count": 12,
   "metadata": {
    "collapsed": false
   },
   "outputs": [
    {
     "data": {
      "text/plain": [
       "2×2 Array{Float64,2}:\n",
       " 5.91608      7.43736 \n",
       " 1.33227e-15  0.828079"
      ]
     },
     "execution_count": 12,
     "metadata": {},
     "output_type": "execute_result"
    }
   ],
   "source": [
    "r1"
   ]
  },
  {
   "cell_type": "code",
   "execution_count": null,
   "metadata": {
    "collapsed": true
   },
   "outputs": [],
   "source": []
  }
 ],
 "metadata": {
  "kernelspec": {
   "display_name": "Julia 0.5.1",
   "language": "julia",
   "name": "julia-0.5"
  },
  "language_info": {
   "file_extension": ".jl",
   "mimetype": "application/julia",
   "name": "julia",
   "version": "0.5.1"
  }
 },
 "nbformat": 4,
 "nbformat_minor": 2
}
